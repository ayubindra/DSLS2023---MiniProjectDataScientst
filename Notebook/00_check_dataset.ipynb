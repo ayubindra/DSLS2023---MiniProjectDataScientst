{
 "cells": [
  {
   "cell_type": "code",
   "execution_count": 7,
   "id": "45932283",
   "metadata": {},
   "outputs": [],
   "source": [
    "import pandas as pd\n",
    "import numpy as np\n",
    "import seaborn as sns\n",
    "import matplotlib.pyplot as plt\n",
    "from datetime import datetime"
   ]
  },
  {
   "cell_type": "code",
   "execution_count": 3,
   "id": "263d72cc",
   "metadata": {},
   "outputs": [],
   "source": [
    "alerts_df = pd.read_csv(r\"C:\\Ayub Indra\\Data Analyst\\DSLS 2023\\Mini Project Data Scientist\\Datasets\\aggregate_alerts_Kota Bogor.csv\")\n",
    "irreg_df = pd.read_csv(r\"C:\\Ayub Indra\\Data Analyst\\DSLS 2023\\Mini Project Data Scientist\\Datasets\\aggregate_median_irregularities_Kota Bogor.csv\")\n",
    "jams_df = pd.read_csv(r\"C:\\Ayub Indra\\Data Analyst\\DSLS 2023\\Mini Project Data Scientist\\Datasets\\aggregate_median_jams_Kota Bogor.csv\")"
   ]
  },
  {
   "attachments": {},
   "cell_type": "markdown",
   "id": "43d9d884",
   "metadata": {},
   "source": [
    "### 1. Alerts"
   ]
  },
  {
   "cell_type": "code",
   "execution_count": 8,
   "id": "dadcb69c",
   "metadata": {},
   "outputs": [
    {
     "data": {
      "text/html": [
       "<div>\n",
       "<style scoped>\n",
       "    .dataframe tbody tr th:only-of-type {\n",
       "        vertical-align: middle;\n",
       "    }\n",
       "\n",
       "    .dataframe tbody tr th {\n",
       "        vertical-align: top;\n",
       "    }\n",
       "\n",
       "    .dataframe thead th {\n",
       "        text-align: right;\n",
       "    }\n",
       "</style>\n",
       "<table border=\"1\" class=\"dataframe\">\n",
       "  <thead>\n",
       "    <tr style=\"text-align: right;\">\n",
       "      <th></th>\n",
       "      <th>id</th>\n",
       "      <th>time</th>\n",
       "      <th>kemendagri_kabupaten_kode</th>\n",
       "      <th>kemendagri_kabupaten_nama</th>\n",
       "      <th>street</th>\n",
       "      <th>type</th>\n",
       "      <th>avg_location</th>\n",
       "      <th>total_records</th>\n",
       "      <th>date</th>\n",
       "    </tr>\n",
       "  </thead>\n",
       "  <tbody>\n",
       "    <tr>\n",
       "      <th>0</th>\n",
       "      <td>5930177</td>\n",
       "      <td>2022-07-06 00:00:00.000</td>\n",
       "      <td>32.71</td>\n",
       "      <td>KOTA BOGOR</td>\n",
       "      <td>KH Soleh Iskandar (Jalur Lambat)</td>\n",
       "      <td>ROAD_CLOSED</td>\n",
       "      <td>[106.80051600000002, -6.561997000000004]</td>\n",
       "      <td>61</td>\n",
       "      <td>2022-07-06</td>\n",
       "    </tr>\n",
       "    <tr>\n",
       "      <th>1</th>\n",
       "      <td>5930178</td>\n",
       "      <td>2022-07-06 00:00:00.000</td>\n",
       "      <td>32.71</td>\n",
       "      <td>KOTA BOGOR</td>\n",
       "      <td>NaN</td>\n",
       "      <td>WEATHERHAZARD</td>\n",
       "      <td>[106.80159300000008, -6.555780000000009]</td>\n",
       "      <td>61</td>\n",
       "      <td>2022-07-06</td>\n",
       "    </tr>\n",
       "    <tr>\n",
       "      <th>2</th>\n",
       "      <td>5930179</td>\n",
       "      <td>2022-07-06 01:00:00.000</td>\n",
       "      <td>32.71</td>\n",
       "      <td>KOTA BOGOR</td>\n",
       "      <td>KH Soleh Iskandar (Jalur Lambat)</td>\n",
       "      <td>ROAD_CLOSED</td>\n",
       "      <td>[106.80051600000002, -6.561997000000004]</td>\n",
       "      <td>60</td>\n",
       "      <td>2022-07-06</td>\n",
       "    </tr>\n",
       "    <tr>\n",
       "      <th>3</th>\n",
       "      <td>5930180</td>\n",
       "      <td>2022-07-06 01:00:00.000</td>\n",
       "      <td>32.71</td>\n",
       "      <td>KOTA BOGOR</td>\n",
       "      <td>NaN</td>\n",
       "      <td>WEATHERHAZARD</td>\n",
       "      <td>[106.80159300000008, -6.555780000000009]</td>\n",
       "      <td>60</td>\n",
       "      <td>2022-07-06</td>\n",
       "    </tr>\n",
       "    <tr>\n",
       "      <th>4</th>\n",
       "      <td>5930181</td>\n",
       "      <td>2022-07-06 02:00:00.000</td>\n",
       "      <td>32.71</td>\n",
       "      <td>KOTA BOGOR</td>\n",
       "      <td>KH Soleh Iskandar (Jalur Lambat)</td>\n",
       "      <td>ROAD_CLOSED</td>\n",
       "      <td>[106.80051600000002, -6.561997000000004]</td>\n",
       "      <td>60</td>\n",
       "      <td>2022-07-06</td>\n",
       "    </tr>\n",
       "  </tbody>\n",
       "</table>\n",
       "</div>"
      ],
      "text/plain": [
       "        id                     time  kemendagri_kabupaten_kode  \\\n",
       "0  5930177  2022-07-06 00:00:00.000                      32.71   \n",
       "1  5930178  2022-07-06 00:00:00.000                      32.71   \n",
       "2  5930179  2022-07-06 01:00:00.000                      32.71   \n",
       "3  5930180  2022-07-06 01:00:00.000                      32.71   \n",
       "4  5930181  2022-07-06 02:00:00.000                      32.71   \n",
       "\n",
       "  kemendagri_kabupaten_nama                            street           type  \\\n",
       "0                KOTA BOGOR  KH Soleh Iskandar (Jalur Lambat)    ROAD_CLOSED   \n",
       "1                KOTA BOGOR                               NaN  WEATHERHAZARD   \n",
       "2                KOTA BOGOR  KH Soleh Iskandar (Jalur Lambat)    ROAD_CLOSED   \n",
       "3                KOTA BOGOR                               NaN  WEATHERHAZARD   \n",
       "4                KOTA BOGOR  KH Soleh Iskandar (Jalur Lambat)    ROAD_CLOSED   \n",
       "\n",
       "                               avg_location  total_records        date  \n",
       "0  [106.80051600000002, -6.561997000000004]             61  2022-07-06  \n",
       "1  [106.80159300000008, -6.555780000000009]             61  2022-07-06  \n",
       "2  [106.80051600000002, -6.561997000000004]             60  2022-07-06  \n",
       "3  [106.80159300000008, -6.555780000000009]             60  2022-07-06  \n",
       "4  [106.80051600000002, -6.561997000000004]             60  2022-07-06  "
      ]
     },
     "execution_count": 8,
     "metadata": {},
     "output_type": "execute_result"
    }
   ],
   "source": [
    "alerts_df.head()"
   ]
  },
  {
   "cell_type": "code",
   "execution_count": 5,
   "id": "c27f41a3",
   "metadata": {},
   "outputs": [
    {
     "name": "stdout",
     "output_type": "stream",
     "text": [
      "<class 'pandas.core.frame.DataFrame'>\n",
      "RangeIndex: 9762 entries, 0 to 9761\n",
      "Data columns (total 9 columns):\n",
      " #   Column                     Non-Null Count  Dtype  \n",
      "---  ------                     --------------  -----  \n",
      " 0   id                         9762 non-null   int64  \n",
      " 1   time                       9762 non-null   object \n",
      " 2   kemendagri_kabupaten_kode  9762 non-null   float64\n",
      " 3   kemendagri_kabupaten_nama  9762 non-null   object \n",
      " 4   street                     8827 non-null   object \n",
      " 5   type                       9762 non-null   object \n",
      " 6   avg_location               9762 non-null   object \n",
      " 7   total_records              9762 non-null   int64  \n",
      " 8   date                       9762 non-null   object \n",
      "dtypes: float64(1), int64(2), object(6)\n",
      "memory usage: 686.5+ KB\n"
     ]
    }
   ],
   "source": [
    "alerts_df.info()"
   ]
  },
  {
   "cell_type": "code",
   "execution_count": 18,
   "id": "0c7dceca",
   "metadata": {},
   "outputs": [],
   "source": [
    "alerts_df = alerts_df.dropna(subset='street')"
   ]
  },
  {
   "cell_type": "code",
   "execution_count": 19,
   "id": "1cb4f42e",
   "metadata": {},
   "outputs": [],
   "source": [
    "# Convert data type\n",
    "alerts_df['time'] = pd.to_datetime(alerts_df['time'])\n",
    "alerts_df['date'] = pd.to_datetime(alerts_df['date'])"
   ]
  },
  {
   "cell_type": "code",
   "execution_count": 20,
   "id": "d6faca69",
   "metadata": {},
   "outputs": [
    {
     "name": "stdout",
     "output_type": "stream",
     "text": [
      "<class 'pandas.core.frame.DataFrame'>\n",
      "Int64Index: 8827 entries, 0 to 9760\n",
      "Data columns (total 9 columns):\n",
      " #   Column                     Non-Null Count  Dtype         \n",
      "---  ------                     --------------  -----         \n",
      " 0   id                         8827 non-null   int64         \n",
      " 1   time                       8827 non-null   datetime64[ns]\n",
      " 2   kemendagri_kabupaten_kode  8827 non-null   float64       \n",
      " 3   kemendagri_kabupaten_nama  8827 non-null   object        \n",
      " 4   street                     8827 non-null   object        \n",
      " 5   type                       8827 non-null   object        \n",
      " 6   avg_location               8827 non-null   object        \n",
      " 7   total_records              8827 non-null   int64         \n",
      " 8   date                       8827 non-null   datetime64[ns]\n",
      "dtypes: datetime64[ns](2), float64(1), int64(2), object(4)\n",
      "memory usage: 689.6+ KB\n"
     ]
    }
   ],
   "source": [
    "alerts_df.info()"
   ]
  },
  {
   "cell_type": "code",
   "execution_count": 55,
   "id": "283d0a58",
   "metadata": {},
   "outputs": [],
   "source": [
    "alerts_df.to_parquet(r'C:\\Ayub Indra\\Data Analyst\\DSLS 2023\\Mini Project Data Scientist\\Datasets\\cleaned\\aggregate_alerts_Kota Bogor.parquet', index=False)"
   ]
  },
  {
   "attachments": {},
   "cell_type": "markdown",
   "id": "a688ec7c",
   "metadata": {},
   "source": [
    "### 2. Irregularities"
   ]
  },
  {
   "cell_type": "code",
   "execution_count": 24,
   "id": "eede6389",
   "metadata": {},
   "outputs": [
    {
     "data": {
      "text/html": [
       "<div>\n",
       "<style scoped>\n",
       "    .dataframe tbody tr th:only-of-type {\n",
       "        vertical-align: middle;\n",
       "    }\n",
       "\n",
       "    .dataframe tbody tr th {\n",
       "        vertical-align: top;\n",
       "    }\n",
       "\n",
       "    .dataframe thead th {\n",
       "        text-align: right;\n",
       "    }\n",
       "</style>\n",
       "<table border=\"1\" class=\"dataframe\">\n",
       "  <thead>\n",
       "    <tr style=\"text-align: right;\">\n",
       "      <th></th>\n",
       "      <th>time</th>\n",
       "      <th>kemendagri_kabupaten_kode</th>\n",
       "      <th>kemendagri_kabupaten_nama</th>\n",
       "      <th>street</th>\n",
       "      <th>jam_level</th>\n",
       "      <th>median_length</th>\n",
       "      <th>median_delay_seconds</th>\n",
       "      <th>median_regular_speed</th>\n",
       "      <th>total_records</th>\n",
       "      <th>cause_type</th>\n",
       "      <th>median_seconds</th>\n",
       "      <th>median_speed</th>\n",
       "      <th>date</th>\n",
       "      <th>median_jam_level</th>\n",
       "      <th>id</th>\n",
       "      <th>geometry</th>\n",
       "    </tr>\n",
       "  </thead>\n",
       "  <tbody>\n",
       "    <tr>\n",
       "      <th>0</th>\n",
       "      <td>2022-07-06 09:00:00.000</td>\n",
       "      <td>32.71</td>\n",
       "      <td>KOTA BOGOR</td>\n",
       "      <td>N9 Jalan Raya Dramaga</td>\n",
       "      <td>4</td>\n",
       "      <td>1878.0</td>\n",
       "      <td>689.0</td>\n",
       "      <td>13.775000</td>\n",
       "      <td>18</td>\n",
       "      <td>NaN</td>\n",
       "      <td>856.5</td>\n",
       "      <td>7.340</td>\n",
       "      <td>2022-07-06</td>\n",
       "      <td>4.0</td>\n",
       "      <td>1492793</td>\n",
       "      <td>MULTILINESTRING ((106.738284 -6.568848, 106.73...</td>\n",
       "    </tr>\n",
       "    <tr>\n",
       "      <th>1</th>\n",
       "      <td>2022-07-06 09:00:00.000</td>\n",
       "      <td>32.71</td>\n",
       "      <td>KOTA BOGOR</td>\n",
       "      <td>N9 Jalan Raya Dramaga</td>\n",
       "      <td>3</td>\n",
       "      <td>1226.0</td>\n",
       "      <td>339.5</td>\n",
       "      <td>14.400000</td>\n",
       "      <td>6</td>\n",
       "      <td>NaN</td>\n",
       "      <td>447.0</td>\n",
       "      <td>9.995</td>\n",
       "      <td>2022-07-06</td>\n",
       "      <td>3.0</td>\n",
       "      <td>1492792</td>\n",
       "      <td>MULTILINESTRING ((106.73546 -6.565547, 106.735...</td>\n",
       "    </tr>\n",
       "    <tr>\n",
       "      <th>2</th>\n",
       "      <td>2022-07-06 10:00:00.000</td>\n",
       "      <td>32.71</td>\n",
       "      <td>KOTA BOGOR</td>\n",
       "      <td>Kapten Yusuf</td>\n",
       "      <td>3</td>\n",
       "      <td>1399.0</td>\n",
       "      <td>517.0</td>\n",
       "      <td>18.150000</td>\n",
       "      <td>2</td>\n",
       "      <td>NaN</td>\n",
       "      <td>707.0</td>\n",
       "      <td>7.110</td>\n",
       "      <td>2022-07-06</td>\n",
       "      <td>3.0</td>\n",
       "      <td>1492794</td>\n",
       "      <td>LINESTRING (106.785538 -6.61574, 106.785797 -6...</td>\n",
       "    </tr>\n",
       "    <tr>\n",
       "      <th>3</th>\n",
       "      <td>2022-07-06 10:00:00.000</td>\n",
       "      <td>32.71</td>\n",
       "      <td>KOTA BOGOR</td>\n",
       "      <td>N9 Underpass KH Soleh Iskandar</td>\n",
       "      <td>4</td>\n",
       "      <td>627.0</td>\n",
       "      <td>525.0</td>\n",
       "      <td>23.900002</td>\n",
       "      <td>20</td>\n",
       "      <td>NaN</td>\n",
       "      <td>573.5</td>\n",
       "      <td>3.930</td>\n",
       "      <td>2022-07-06</td>\n",
       "      <td>4.0</td>\n",
       "      <td>1492797</td>\n",
       "      <td>MULTILINESTRING ((106.800519 -6.562005, 106.80...</td>\n",
       "    </tr>\n",
       "    <tr>\n",
       "      <th>4</th>\n",
       "      <td>2022-07-06 10:00:00.000</td>\n",
       "      <td>32.71</td>\n",
       "      <td>KOTA BOGOR</td>\n",
       "      <td>N9 Jalan Raya Dramaga</td>\n",
       "      <td>4</td>\n",
       "      <td>1420.0</td>\n",
       "      <td>623.0</td>\n",
       "      <td>11.710000</td>\n",
       "      <td>19</td>\n",
       "      <td>NaN</td>\n",
       "      <td>734.0</td>\n",
       "      <td>6.560</td>\n",
       "      <td>2022-07-06</td>\n",
       "      <td>4.0</td>\n",
       "      <td>1492796</td>\n",
       "      <td>MULTILINESTRING ((106.739572 -6.570715, 106.73...</td>\n",
       "    </tr>\n",
       "  </tbody>\n",
       "</table>\n",
       "</div>"
      ],
      "text/plain": [
       "                      time  kemendagri_kabupaten_kode  \\\n",
       "0  2022-07-06 09:00:00.000                      32.71   \n",
       "1  2022-07-06 09:00:00.000                      32.71   \n",
       "2  2022-07-06 10:00:00.000                      32.71   \n",
       "3  2022-07-06 10:00:00.000                      32.71   \n",
       "4  2022-07-06 10:00:00.000                      32.71   \n",
       "\n",
       "  kemendagri_kabupaten_nama                          street  jam_level  \\\n",
       "0                KOTA BOGOR           N9 Jalan Raya Dramaga          4   \n",
       "1                KOTA BOGOR           N9 Jalan Raya Dramaga          3   \n",
       "2                KOTA BOGOR                    Kapten Yusuf          3   \n",
       "3                KOTA BOGOR  N9 Underpass KH Soleh Iskandar          4   \n",
       "4                KOTA BOGOR           N9 Jalan Raya Dramaga          4   \n",
       "\n",
       "   median_length  median_delay_seconds  median_regular_speed  total_records  \\\n",
       "0         1878.0                 689.0             13.775000             18   \n",
       "1         1226.0                 339.5             14.400000              6   \n",
       "2         1399.0                 517.0             18.150000              2   \n",
       "3          627.0                 525.0             23.900002             20   \n",
       "4         1420.0                 623.0             11.710000             19   \n",
       "\n",
       "   cause_type  median_seconds  median_speed        date  median_jam_level  \\\n",
       "0         NaN           856.5         7.340  2022-07-06               4.0   \n",
       "1         NaN           447.0         9.995  2022-07-06               3.0   \n",
       "2         NaN           707.0         7.110  2022-07-06               3.0   \n",
       "3         NaN           573.5         3.930  2022-07-06               4.0   \n",
       "4         NaN           734.0         6.560  2022-07-06               4.0   \n",
       "\n",
       "        id                                           geometry  \n",
       "0  1492793  MULTILINESTRING ((106.738284 -6.568848, 106.73...  \n",
       "1  1492792  MULTILINESTRING ((106.73546 -6.565547, 106.735...  \n",
       "2  1492794  LINESTRING (106.785538 -6.61574, 106.785797 -6...  \n",
       "3  1492797  MULTILINESTRING ((106.800519 -6.562005, 106.80...  \n",
       "4  1492796  MULTILINESTRING ((106.739572 -6.570715, 106.73...  "
      ]
     },
     "execution_count": 24,
     "metadata": {},
     "output_type": "execute_result"
    }
   ],
   "source": [
    "irreg_df.head()"
   ]
  },
  {
   "cell_type": "code",
   "execution_count": 25,
   "id": "95d53bbe",
   "metadata": {},
   "outputs": [
    {
     "name": "stdout",
     "output_type": "stream",
     "text": [
      "<class 'pandas.core.frame.DataFrame'>\n",
      "RangeIndex: 4051 entries, 0 to 4050\n",
      "Data columns (total 16 columns):\n",
      " #   Column                     Non-Null Count  Dtype  \n",
      "---  ------                     --------------  -----  \n",
      " 0   time                       4051 non-null   object \n",
      " 1   kemendagri_kabupaten_kode  4051 non-null   float64\n",
      " 2   kemendagri_kabupaten_nama  4051 non-null   object \n",
      " 3   street                     4051 non-null   object \n",
      " 4   jam_level                  4051 non-null   int64  \n",
      " 5   median_length              4051 non-null   float64\n",
      " 6   median_delay_seconds       4051 non-null   float64\n",
      " 7   median_regular_speed       4051 non-null   float64\n",
      " 8   total_records              4051 non-null   int64  \n",
      " 9   cause_type                 0 non-null      float64\n",
      " 10  median_seconds             4051 non-null   float64\n",
      " 11  median_speed               4051 non-null   float64\n",
      " 12  date                       4051 non-null   object \n",
      " 13  median_jam_level           4051 non-null   float64\n",
      " 14  id                         4051 non-null   int64  \n",
      " 15  geometry                   4051 non-null   object \n",
      "dtypes: float64(8), int64(3), object(5)\n",
      "memory usage: 506.5+ KB\n"
     ]
    }
   ],
   "source": [
    "irreg_df.info()"
   ]
  },
  {
   "cell_type": "code",
   "execution_count": 26,
   "id": "7bc03f24",
   "metadata": {},
   "outputs": [],
   "source": [
    "# Convert data type\n",
    "irreg_df['time'] = pd.to_datetime(irreg_df['time'])\n",
    "irreg_df['date'] = pd.to_datetime(irreg_df['date'])"
   ]
  },
  {
   "cell_type": "code",
   "execution_count": 39,
   "id": "02efc07e",
   "metadata": {},
   "outputs": [
    {
     "name": "stdout",
     "output_type": "stream",
     "text": [
      "<class 'pandas.core.frame.DataFrame'>\n",
      "RangeIndex: 4051 entries, 0 to 4050\n",
      "Data columns (total 15 columns):\n",
      " #   Column                     Non-Null Count  Dtype         \n",
      "---  ------                     --------------  -----         \n",
      " 0   time                       4051 non-null   datetime64[ns]\n",
      " 1   kemendagri_kabupaten_kode  4051 non-null   float64       \n",
      " 2   kemendagri_kabupaten_nama  4051 non-null   object        \n",
      " 3   street                     4051 non-null   object        \n",
      " 4   jam_level                  4051 non-null   int64         \n",
      " 5   median_length              4051 non-null   float64       \n",
      " 6   median_delay_seconds       4051 non-null   float64       \n",
      " 7   median_regular_speed       4051 non-null   float64       \n",
      " 8   total_records              4051 non-null   int64         \n",
      " 9   median_seconds             4051 non-null   float64       \n",
      " 10  median_speed               4051 non-null   float64       \n",
      " 11  date                       4051 non-null   datetime64[ns]\n",
      " 12  median_jam_level           4051 non-null   float64       \n",
      " 13  id                         4051 non-null   int64         \n",
      " 14  geometry                   4051 non-null   object        \n",
      "dtypes: datetime64[ns](2), float64(7), int64(3), object(3)\n",
      "memory usage: 474.9+ KB\n"
     ]
    }
   ],
   "source": [
    "irreg_df.info()"
   ]
  },
  {
   "cell_type": "code",
   "execution_count": 30,
   "id": "d77b2e05",
   "metadata": {},
   "outputs": [],
   "source": [
    "# drop columns\n",
    "irreg_df.drop(columns='cause_type', axis=1, inplace=True)"
   ]
  },
  {
   "cell_type": "code",
   "execution_count": 40,
   "id": "64ad288b",
   "metadata": {},
   "outputs": [
    {
     "name": "stdout",
     "output_type": "stream",
     "text": [
      "<class 'pandas.core.frame.DataFrame'>\n",
      "RangeIndex: 4051 entries, 0 to 4050\n",
      "Data columns (total 15 columns):\n",
      " #   Column                     Non-Null Count  Dtype         \n",
      "---  ------                     --------------  -----         \n",
      " 0   time                       4051 non-null   datetime64[ns]\n",
      " 1   kemendagri_kabupaten_kode  4051 non-null   float64       \n",
      " 2   kemendagri_kabupaten_nama  4051 non-null   object        \n",
      " 3   street                     4051 non-null   object        \n",
      " 4   jam_level                  4051 non-null   int64         \n",
      " 5   median_length              4051 non-null   float64       \n",
      " 6   median_delay_seconds       4051 non-null   float64       \n",
      " 7   median_regular_speed       4051 non-null   float64       \n",
      " 8   total_records              4051 non-null   int64         \n",
      " 9   median_seconds             4051 non-null   float64       \n",
      " 10  median_speed               4051 non-null   float64       \n",
      " 11  date                       4051 non-null   datetime64[ns]\n",
      " 12  median_jam_level           4051 non-null   float64       \n",
      " 13  id                         4051 non-null   int64         \n",
      " 14  geometry                   4051 non-null   object        \n",
      "dtypes: datetime64[ns](2), float64(7), int64(3), object(3)\n",
      "memory usage: 474.9+ KB\n"
     ]
    }
   ],
   "source": [
    "irreg_df.info()"
   ]
  },
  {
   "cell_type": "code",
   "execution_count": 57,
   "id": "7517269b",
   "metadata": {},
   "outputs": [],
   "source": [
    "irreg_df.to_parquet(r'C:\\Ayub Indra\\Data Analyst\\DSLS 2023\\Mini Project Data Scientist\\Datasets\\cleaned\\aggregate_median_irregularities_Kota Bogor.parquet', index=False)"
   ]
  },
  {
   "attachments": {},
   "cell_type": "markdown",
   "id": "806a3c3d",
   "metadata": {},
   "source": [
    "### 3. Jams"
   ]
  },
  {
   "cell_type": "code",
   "execution_count": 42,
   "id": "b1a55394",
   "metadata": {},
   "outputs": [
    {
     "data": {
      "text/html": [
       "<div>\n",
       "<style scoped>\n",
       "    .dataframe tbody tr th:only-of-type {\n",
       "        vertical-align: middle;\n",
       "    }\n",
       "\n",
       "    .dataframe tbody tr th {\n",
       "        vertical-align: top;\n",
       "    }\n",
       "\n",
       "    .dataframe thead th {\n",
       "        text-align: right;\n",
       "    }\n",
       "</style>\n",
       "<table border=\"1\" class=\"dataframe\">\n",
       "  <thead>\n",
       "    <tr style=\"text-align: right;\">\n",
       "      <th></th>\n",
       "      <th>Unnamed: 0</th>\n",
       "      <th>time</th>\n",
       "      <th>kemendagri_kabupaten_kode</th>\n",
       "      <th>kemendagri_kabupaten_nama</th>\n",
       "      <th>street</th>\n",
       "      <th>level</th>\n",
       "      <th>median_length</th>\n",
       "      <th>median_delay</th>\n",
       "      <th>median_speed_kmh</th>\n",
       "      <th>total_records</th>\n",
       "      <th>id</th>\n",
       "      <th>date</th>\n",
       "      <th>median_level</th>\n",
       "      <th>geometry</th>\n",
       "    </tr>\n",
       "  </thead>\n",
       "  <tbody>\n",
       "    <tr>\n",
       "      <th>0</th>\n",
       "      <td>0</td>\n",
       "      <td>2022-07-06 00:00:00.000</td>\n",
       "      <td>32.71</td>\n",
       "      <td>KOTA BOGOR</td>\n",
       "      <td>Pahlawan</td>\n",
       "      <td>2</td>\n",
       "      <td>784.0</td>\n",
       "      <td>62.0</td>\n",
       "      <td>20.310001</td>\n",
       "      <td>4</td>\n",
       "      <td>33469021</td>\n",
       "      <td>2022-07-06</td>\n",
       "      <td>2.0</td>\n",
       "      <td>MULTILINESTRING ((106.797269 -6.608899, 106.79...</td>\n",
       "    </tr>\n",
       "    <tr>\n",
       "      <th>1</th>\n",
       "      <td>1</td>\n",
       "      <td>2022-07-06 00:00:00.000</td>\n",
       "      <td>32.71</td>\n",
       "      <td>KOTA BOGOR</td>\n",
       "      <td>Tol Lingkar Luar Bogor</td>\n",
       "      <td>2</td>\n",
       "      <td>1314.0</td>\n",
       "      <td>63.0</td>\n",
       "      <td>37.710000</td>\n",
       "      <td>2</td>\n",
       "      <td>33469023</td>\n",
       "      <td>2022-07-06</td>\n",
       "      <td>2.0</td>\n",
       "      <td>LINESTRING (106.787027 -6.559782, 106.787701 -...</td>\n",
       "    </tr>\n",
       "    <tr>\n",
       "      <th>2</th>\n",
       "      <td>2</td>\n",
       "      <td>2022-07-06 00:00:00.000</td>\n",
       "      <td>32.71</td>\n",
       "      <td>KOTA BOGOR</td>\n",
       "      <td>KH Soleh Iskandar (Jalur Lambat)</td>\n",
       "      <td>5</td>\n",
       "      <td>167.0</td>\n",
       "      <td>-1.0</td>\n",
       "      <td>0.000000</td>\n",
       "      <td>61</td>\n",
       "      <td>33469019</td>\n",
       "      <td>2022-07-06</td>\n",
       "      <td>5.0</td>\n",
       "      <td>MULTILINESTRING ((106.800516 -6.561997, 106.80...</td>\n",
       "    </tr>\n",
       "    <tr>\n",
       "      <th>3</th>\n",
       "      <td>3</td>\n",
       "      <td>2022-07-06 00:00:00.000</td>\n",
       "      <td>32.71</td>\n",
       "      <td>KOTA BOGOR</td>\n",
       "      <td>N8 Jalan Raya Sukabumi</td>\n",
       "      <td>3</td>\n",
       "      <td>379.0</td>\n",
       "      <td>117.5</td>\n",
       "      <td>8.594999</td>\n",
       "      <td>10</td>\n",
       "      <td>33469020</td>\n",
       "      <td>2022-07-06</td>\n",
       "      <td>3.0</td>\n",
       "      <td>MULTILINESTRING ((106.845486 -6.6594, 106.8454...</td>\n",
       "    </tr>\n",
       "    <tr>\n",
       "      <th>4</th>\n",
       "      <td>4</td>\n",
       "      <td>2022-07-06 00:00:00.000</td>\n",
       "      <td>32.71</td>\n",
       "      <td>KOTA BOGOR</td>\n",
       "      <td>Tol Lingkar Luar Bogor</td>\n",
       "      <td>1</td>\n",
       "      <td>2438.0</td>\n",
       "      <td>87.0</td>\n",
       "      <td>42.270000</td>\n",
       "      <td>2</td>\n",
       "      <td>33469022</td>\n",
       "      <td>2022-07-06</td>\n",
       "      <td>1.0</td>\n",
       "      <td>LINESTRING (106.787027 -6.559782, 106.787701 -...</td>\n",
       "    </tr>\n",
       "  </tbody>\n",
       "</table>\n",
       "</div>"
      ],
      "text/plain": [
       "   Unnamed: 0                     time  kemendagri_kabupaten_kode  \\\n",
       "0           0  2022-07-06 00:00:00.000                      32.71   \n",
       "1           1  2022-07-06 00:00:00.000                      32.71   \n",
       "2           2  2022-07-06 00:00:00.000                      32.71   \n",
       "3           3  2022-07-06 00:00:00.000                      32.71   \n",
       "4           4  2022-07-06 00:00:00.000                      32.71   \n",
       "\n",
       "  kemendagri_kabupaten_nama                            street  level  \\\n",
       "0                KOTA BOGOR                          Pahlawan      2   \n",
       "1                KOTA BOGOR            Tol Lingkar Luar Bogor      2   \n",
       "2                KOTA BOGOR  KH Soleh Iskandar (Jalur Lambat)      5   \n",
       "3                KOTA BOGOR            N8 Jalan Raya Sukabumi      3   \n",
       "4                KOTA BOGOR            Tol Lingkar Luar Bogor      1   \n",
       "\n",
       "   median_length  median_delay  median_speed_kmh  total_records        id  \\\n",
       "0          784.0          62.0         20.310001              4  33469021   \n",
       "1         1314.0          63.0         37.710000              2  33469023   \n",
       "2          167.0          -1.0          0.000000             61  33469019   \n",
       "3          379.0         117.5          8.594999             10  33469020   \n",
       "4         2438.0          87.0         42.270000              2  33469022   \n",
       "\n",
       "         date  median_level                                           geometry  \n",
       "0  2022-07-06           2.0  MULTILINESTRING ((106.797269 -6.608899, 106.79...  \n",
       "1  2022-07-06           2.0  LINESTRING (106.787027 -6.559782, 106.787701 -...  \n",
       "2  2022-07-06           5.0  MULTILINESTRING ((106.800516 -6.561997, 106.80...  \n",
       "3  2022-07-06           3.0  MULTILINESTRING ((106.845486 -6.6594, 106.8454...  \n",
       "4  2022-07-06           1.0  LINESTRING (106.787027 -6.559782, 106.787701 -...  "
      ]
     },
     "execution_count": 42,
     "metadata": {},
     "output_type": "execute_result"
    }
   ],
   "source": [
    "jams_df.head()"
   ]
  },
  {
   "cell_type": "code",
   "execution_count": 43,
   "id": "cdb2e0be",
   "metadata": {},
   "outputs": [
    {
     "name": "stdout",
     "output_type": "stream",
     "text": [
      "<class 'pandas.core.frame.DataFrame'>\n",
      "RangeIndex: 102322 entries, 0 to 102321\n",
      "Data columns (total 14 columns):\n",
      " #   Column                     Non-Null Count   Dtype  \n",
      "---  ------                     --------------   -----  \n",
      " 0   Unnamed: 0                 102322 non-null  int64  \n",
      " 1   time                       102322 non-null  object \n",
      " 2   kemendagri_kabupaten_kode  102322 non-null  float64\n",
      " 3   kemendagri_kabupaten_nama  102322 non-null  object \n",
      " 4   street                     100529 non-null  object \n",
      " 5   level                      102322 non-null  int64  \n",
      " 6   median_length              102322 non-null  float64\n",
      " 7   median_delay               102322 non-null  float64\n",
      " 8   median_speed_kmh           102322 non-null  float64\n",
      " 9   total_records              102322 non-null  int64  \n",
      " 10  id                         102322 non-null  int64  \n",
      " 11  date                       102322 non-null  object \n",
      " 12  median_level               102322 non-null  float64\n",
      " 13  geometry                   102322 non-null  object \n",
      "dtypes: float64(5), int64(4), object(5)\n",
      "memory usage: 10.9+ MB\n"
     ]
    }
   ],
   "source": [
    "jams_df.info()"
   ]
  },
  {
   "cell_type": "code",
   "execution_count": 44,
   "id": "eb1c0f02",
   "metadata": {},
   "outputs": [],
   "source": [
    "jams_df['time'] = pd.to_datetime(jams_df['time'])\n",
    "jams_df['date'] = pd.to_datetime(jams_df['date'])"
   ]
  },
  {
   "cell_type": "code",
   "execution_count": 47,
   "id": "674baa0c",
   "metadata": {},
   "outputs": [],
   "source": [
    "jams_df = jams_df.drop(columns=['Unnamed: 0'])"
   ]
  },
  {
   "cell_type": "code",
   "execution_count": 50,
   "id": "3e20da25",
   "metadata": {},
   "outputs": [],
   "source": [
    "jams_df = jams_df.dropna(subset='street')"
   ]
  },
  {
   "cell_type": "code",
   "execution_count": 51,
   "id": "b0a6e28c",
   "metadata": {},
   "outputs": [
    {
     "name": "stdout",
     "output_type": "stream",
     "text": [
      "<class 'pandas.core.frame.DataFrame'>\n",
      "Int64Index: 100529 entries, 0 to 102321\n",
      "Data columns (total 13 columns):\n",
      " #   Column                     Non-Null Count   Dtype         \n",
      "---  ------                     --------------   -----         \n",
      " 0   time                       100529 non-null  datetime64[ns]\n",
      " 1   kemendagri_kabupaten_kode  100529 non-null  float64       \n",
      " 2   kemendagri_kabupaten_nama  100529 non-null  object        \n",
      " 3   street                     100529 non-null  object        \n",
      " 4   level                      100529 non-null  int64         \n",
      " 5   median_length              100529 non-null  float64       \n",
      " 6   median_delay               100529 non-null  float64       \n",
      " 7   median_speed_kmh           100529 non-null  float64       \n",
      " 8   total_records              100529 non-null  int64         \n",
      " 9   id                         100529 non-null  int64         \n",
      " 10  date                       100529 non-null  datetime64[ns]\n",
      " 11  median_level               100529 non-null  float64       \n",
      " 12  geometry                   100529 non-null  object        \n",
      "dtypes: datetime64[ns](2), float64(5), int64(3), object(3)\n",
      "memory usage: 10.7+ MB\n"
     ]
    }
   ],
   "source": [
    "jams_df.info()"
   ]
  },
  {
   "cell_type": "code",
   "execution_count": 58,
   "id": "df34d04e",
   "metadata": {},
   "outputs": [],
   "source": [
    "jams_df.to_parquet(r'C:\\Ayub Indra\\Data Analyst\\DSLS 2023\\Mini Project Data Scientist\\Datasets\\cleaned\\aggregate_median_jams_Kota Bogor.parquet', index=False)"
   ]
  }
 ],
 "metadata": {
  "kernelspec": {
   "display_name": "Python 3",
   "language": "python",
   "name": "python3"
  },
  "language_info": {
   "codemirror_mode": {
    "name": "ipython",
    "version": 3
   },
   "file_extension": ".py",
   "mimetype": "text/x-python",
   "name": "python",
   "nbconvert_exporter": "python",
   "pygments_lexer": "ipython3",
   "version": "3.11.1 (tags/v3.11.1:a7a450f, Dec  6 2022, 19:58:39) [MSC v.1934 64 bit (AMD64)]"
  },
  "vscode": {
   "interpreter": {
    "hash": "c96370ad76da32f6e70431522715ec8db20eeb14afa16e723f4c4e77a3cc51dd"
   }
  }
 },
 "nbformat": 4,
 "nbformat_minor": 5
}
