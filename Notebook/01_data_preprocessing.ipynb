{
 "cells": [
  {
   "cell_type": "code",
   "execution_count": 2,
   "metadata": {},
   "outputs": [],
   "source": [
    "import pandas as pd\n",
    "from datetime import datetime"
   ]
  },
  {
   "cell_type": "code",
   "execution_count": 3,
   "metadata": {},
   "outputs": [],
   "source": [
    "data_path = 'C:\\Ayub Indra\\Data Analyst\\DSLS 2023\\Mini Project Data Scientist\\Datasets\\cleaned\\{}'\n",
    "\n",
    "jams_df = pd.read_parquet(data_path.format('aggregate_median_jams_Kota Bogor.parquet'))"
   ]
  },
  {
   "attachments": {},
   "cell_type": "markdown",
   "metadata": {},
   "source": [
    "### Jams Dataset"
   ]
  },
  {
   "cell_type": "code",
   "execution_count": 4,
   "metadata": {},
   "outputs": [
    {
     "data": {
      "text/html": [
       "<div>\n",
       "<style scoped>\n",
       "    .dataframe tbody tr th:only-of-type {\n",
       "        vertical-align: middle;\n",
       "    }\n",
       "\n",
       "    .dataframe tbody tr th {\n",
       "        vertical-align: top;\n",
       "    }\n",
       "\n",
       "    .dataframe thead th {\n",
       "        text-align: right;\n",
       "    }\n",
       "</style>\n",
       "<table border=\"1\" class=\"dataframe\">\n",
       "  <thead>\n",
       "    <tr style=\"text-align: right;\">\n",
       "      <th></th>\n",
       "      <th>time</th>\n",
       "      <th>kemendagri_kabupaten_kode</th>\n",
       "      <th>kemendagri_kabupaten_nama</th>\n",
       "      <th>street</th>\n",
       "      <th>level</th>\n",
       "      <th>median_length</th>\n",
       "      <th>median_delay</th>\n",
       "      <th>median_speed_kmh</th>\n",
       "      <th>total_records</th>\n",
       "      <th>id</th>\n",
       "      <th>date</th>\n",
       "      <th>median_level</th>\n",
       "      <th>geometry</th>\n",
       "    </tr>\n",
       "  </thead>\n",
       "  <tbody>\n",
       "    <tr>\n",
       "      <th>0</th>\n",
       "      <td>2022-07-06</td>\n",
       "      <td>32.71</td>\n",
       "      <td>KOTA BOGOR</td>\n",
       "      <td>Pahlawan</td>\n",
       "      <td>2</td>\n",
       "      <td>784.0</td>\n",
       "      <td>62.0</td>\n",
       "      <td>20.310001</td>\n",
       "      <td>4</td>\n",
       "      <td>33469021</td>\n",
       "      <td>2022-07-06</td>\n",
       "      <td>2.0</td>\n",
       "      <td>MULTILINESTRING ((106.797269 -6.608899, 106.79...</td>\n",
       "    </tr>\n",
       "    <tr>\n",
       "      <th>1</th>\n",
       "      <td>2022-07-06</td>\n",
       "      <td>32.71</td>\n",
       "      <td>KOTA BOGOR</td>\n",
       "      <td>Tol Lingkar Luar Bogor</td>\n",
       "      <td>2</td>\n",
       "      <td>1314.0</td>\n",
       "      <td>63.0</td>\n",
       "      <td>37.710000</td>\n",
       "      <td>2</td>\n",
       "      <td>33469023</td>\n",
       "      <td>2022-07-06</td>\n",
       "      <td>2.0</td>\n",
       "      <td>LINESTRING (106.787027 -6.559782, 106.787701 -...</td>\n",
       "    </tr>\n",
       "    <tr>\n",
       "      <th>2</th>\n",
       "      <td>2022-07-06</td>\n",
       "      <td>32.71</td>\n",
       "      <td>KOTA BOGOR</td>\n",
       "      <td>KH Soleh Iskandar (Jalur Lambat)</td>\n",
       "      <td>5</td>\n",
       "      <td>167.0</td>\n",
       "      <td>-1.0</td>\n",
       "      <td>0.000000</td>\n",
       "      <td>61</td>\n",
       "      <td>33469019</td>\n",
       "      <td>2022-07-06</td>\n",
       "      <td>5.0</td>\n",
       "      <td>MULTILINESTRING ((106.800516 -6.561997, 106.80...</td>\n",
       "    </tr>\n",
       "    <tr>\n",
       "      <th>3</th>\n",
       "      <td>2022-07-06</td>\n",
       "      <td>32.71</td>\n",
       "      <td>KOTA BOGOR</td>\n",
       "      <td>N8 Jalan Raya Sukabumi</td>\n",
       "      <td>3</td>\n",
       "      <td>379.0</td>\n",
       "      <td>117.5</td>\n",
       "      <td>8.594999</td>\n",
       "      <td>10</td>\n",
       "      <td>33469020</td>\n",
       "      <td>2022-07-06</td>\n",
       "      <td>3.0</td>\n",
       "      <td>MULTILINESTRING ((106.845486 -6.6594, 106.8454...</td>\n",
       "    </tr>\n",
       "    <tr>\n",
       "      <th>4</th>\n",
       "      <td>2022-07-06</td>\n",
       "      <td>32.71</td>\n",
       "      <td>KOTA BOGOR</td>\n",
       "      <td>Tol Lingkar Luar Bogor</td>\n",
       "      <td>1</td>\n",
       "      <td>2438.0</td>\n",
       "      <td>87.0</td>\n",
       "      <td>42.270000</td>\n",
       "      <td>2</td>\n",
       "      <td>33469022</td>\n",
       "      <td>2022-07-06</td>\n",
       "      <td>1.0</td>\n",
       "      <td>LINESTRING (106.787027 -6.559782, 106.787701 -...</td>\n",
       "    </tr>\n",
       "  </tbody>\n",
       "</table>\n",
       "</div>"
      ],
      "text/plain": [
       "        time  kemendagri_kabupaten_kode kemendagri_kabupaten_nama  \\\n",
       "0 2022-07-06                      32.71                KOTA BOGOR   \n",
       "1 2022-07-06                      32.71                KOTA BOGOR   \n",
       "2 2022-07-06                      32.71                KOTA BOGOR   \n",
       "3 2022-07-06                      32.71                KOTA BOGOR   \n",
       "4 2022-07-06                      32.71                KOTA BOGOR   \n",
       "\n",
       "                             street  level  median_length  median_delay  \\\n",
       "0                          Pahlawan      2          784.0          62.0   \n",
       "1            Tol Lingkar Luar Bogor      2         1314.0          63.0   \n",
       "2  KH Soleh Iskandar (Jalur Lambat)      5          167.0          -1.0   \n",
       "3            N8 Jalan Raya Sukabumi      3          379.0         117.5   \n",
       "4            Tol Lingkar Luar Bogor      1         2438.0          87.0   \n",
       "\n",
       "   median_speed_kmh  total_records        id       date  median_level  \\\n",
       "0         20.310001              4  33469021 2022-07-06           2.0   \n",
       "1         37.710000              2  33469023 2022-07-06           2.0   \n",
       "2          0.000000             61  33469019 2022-07-06           5.0   \n",
       "3          8.594999             10  33469020 2022-07-06           3.0   \n",
       "4         42.270000              2  33469022 2022-07-06           1.0   \n",
       "\n",
       "                                            geometry  \n",
       "0  MULTILINESTRING ((106.797269 -6.608899, 106.79...  \n",
       "1  LINESTRING (106.787027 -6.559782, 106.787701 -...  \n",
       "2  MULTILINESTRING ((106.800516 -6.561997, 106.80...  \n",
       "3  MULTILINESTRING ((106.845486 -6.6594, 106.8454...  \n",
       "4  LINESTRING (106.787027 -6.559782, 106.787701 -...  "
      ]
     },
     "execution_count": 4,
     "metadata": {},
     "output_type": "execute_result"
    }
   ],
   "source": [
    "jams_df.head()"
   ]
  },
  {
   "cell_type": "code",
   "execution_count": 5,
   "metadata": {},
   "outputs": [
    {
     "name": "stdout",
     "output_type": "stream",
     "text": [
      "<class 'pandas.core.frame.DataFrame'>\n",
      "RangeIndex: 100529 entries, 0 to 100528\n",
      "Data columns (total 13 columns):\n",
      " #   Column                     Non-Null Count   Dtype         \n",
      "---  ------                     --------------   -----         \n",
      " 0   time                       100529 non-null  datetime64[ns]\n",
      " 1   kemendagri_kabupaten_kode  100529 non-null  float64       \n",
      " 2   kemendagri_kabupaten_nama  100529 non-null  object        \n",
      " 3   street                     100529 non-null  object        \n",
      " 4   level                      100529 non-null  int64         \n",
      " 5   median_length              100529 non-null  float64       \n",
      " 6   median_delay               100529 non-null  float64       \n",
      " 7   median_speed_kmh           100529 non-null  float64       \n",
      " 8   total_records              100529 non-null  int64         \n",
      " 9   id                         100529 non-null  int64         \n",
      " 10  date                       100529 non-null  datetime64[ns]\n",
      " 11  median_level               100529 non-null  float64       \n",
      " 12  geometry                   100529 non-null  object        \n",
      "dtypes: datetime64[ns](2), float64(5), int64(3), object(3)\n",
      "memory usage: 10.0+ MB\n"
     ]
    }
   ],
   "source": [
    "jams_df.info()"
   ]
  },
  {
   "cell_type": "code",
   "execution_count": 6,
   "metadata": {},
   "outputs": [
    {
     "data": {
      "text/plain": [
       "(0, 13)"
      ]
     },
     "execution_count": 6,
     "metadata": {},
     "output_type": "execute_result"
    }
   ],
   "source": [
    "# Check level that not equal to median level\n",
    "jams_df[jams_df['level'] != jams_df['median_level']].shape"
   ]
  },
  {
   "cell_type": "code",
   "execution_count": 7,
   "metadata": {},
   "outputs": [
    {
     "data": {
      "text/plain": [
       "N9 Raden KH Abdullah bin Nuh    3658\n",
       "N9 Jalan Raya Pajajaran         3625\n",
       "N9 Jalan Raya Dramaga           3174\n",
       "N9 Jalan Raya Tajur             3054\n",
       "N8 Jalan Raya Bogor             2954\n",
       "                                ... \n",
       "Jagung                             1\n",
       "Pembangunan 1                      1\n",
       "Partibi                            1\n",
       "Garuda 1                           1\n",
       "Sedap Malam                        1\n",
       "Name: street, Length: 454, dtype: int64"
      ]
     },
     "execution_count": 7,
     "metadata": {},
     "output_type": "execute_result"
    }
   ],
   "source": [
    "# Check street value counts\n",
    "jams_df['street'].value_counts()"
   ]
  },
  {
   "cell_type": "code",
   "execution_count": 8,
   "metadata": {},
   "outputs": [
    {
     "name": "stdout",
     "output_type": "stream",
     "text": [
      "Min Timestamp : 2022-07-06 00:00:00\n",
      "Max Timestamp : 2022-09-06 00:00:00\n"
     ]
    }
   ],
   "source": [
    "# Check min and max timestamp\n",
    "print(\"Min Timestamp : {}\".format(jams_df['time'].min()))\n",
    "print(\"Max Timestamp : {}\".format(jams_df['time'].max()))"
   ]
  },
  {
   "cell_type": "code",
   "execution_count": 9,
   "metadata": {},
   "outputs": [
    {
     "name": "stdout",
     "output_type": "stream",
     "text": [
      "Incomplete historical data\n",
      "Proportion with complete: 14.88%\n"
     ]
    }
   ],
   "source": [
    "day = (max(jams_df['time']) - min(jams_df['time'])).days\n",
    "hour = 24\n",
    "street = len(set(jams_df['street']))\n",
    "\n",
    "if day * hour * street == jams_df.shape[0]:\n",
    "    print(\"Complete historical data\")\n",
    "else:\n",
    "    print(\"Incomplete historical data\")\n",
    "    print(\"Proportion with complete: {}%\".format(\n",
    "        round((jams_df.shape[0]/(day * hour * street)) * 100, 2)\n",
    "    ))"
   ]
  },
  {
   "cell_type": "code",
   "execution_count": 10,
   "metadata": {},
   "outputs": [
    {
     "data": {
      "text/html": [
       "<div>\n",
       "<style scoped>\n",
       "    .dataframe tbody tr th:only-of-type {\n",
       "        vertical-align: middle;\n",
       "    }\n",
       "\n",
       "    .dataframe tbody tr th {\n",
       "        vertical-align: top;\n",
       "    }\n",
       "\n",
       "    .dataframe thead th {\n",
       "        text-align: right;\n",
       "    }\n",
       "</style>\n",
       "<table border=\"1\" class=\"dataframe\">\n",
       "  <thead>\n",
       "    <tr style=\"text-align: right;\">\n",
       "      <th></th>\n",
       "      <th>street</th>\n",
       "      <th>time</th>\n",
       "      <th>count</th>\n",
       "    </tr>\n",
       "  </thead>\n",
       "  <tbody>\n",
       "    <tr>\n",
       "      <th>0</th>\n",
       "      <td>AH Nasution</td>\n",
       "      <td>2022-07-09 13:00:00</td>\n",
       "      <td>1</td>\n",
       "    </tr>\n",
       "    <tr>\n",
       "      <th>1</th>\n",
       "      <td>AH Nasution</td>\n",
       "      <td>2022-07-19 12:00:00</td>\n",
       "      <td>1</td>\n",
       "    </tr>\n",
       "    <tr>\n",
       "      <th>2</th>\n",
       "      <td>AH Nasution</td>\n",
       "      <td>2022-07-19 15:00:00</td>\n",
       "      <td>1</td>\n",
       "    </tr>\n",
       "    <tr>\n",
       "      <th>3</th>\n",
       "      <td>AH Nasution</td>\n",
       "      <td>2022-07-22 14:00:00</td>\n",
       "      <td>1</td>\n",
       "    </tr>\n",
       "    <tr>\n",
       "      <th>4</th>\n",
       "      <td>AH Nasution</td>\n",
       "      <td>2022-07-22 22:00:00</td>\n",
       "      <td>1</td>\n",
       "    </tr>\n",
       "    <tr>\n",
       "      <th>...</th>\n",
       "      <td>...</td>\n",
       "      <td>...</td>\n",
       "      <td>...</td>\n",
       "    </tr>\n",
       "    <tr>\n",
       "      <th>51843</th>\n",
       "      <td>Yasmin Raya</td>\n",
       "      <td>2022-08-29 17:00:00</td>\n",
       "      <td>1</td>\n",
       "    </tr>\n",
       "    <tr>\n",
       "      <th>51844</th>\n",
       "      <td>Yasmin Raya</td>\n",
       "      <td>2022-08-30 14:00:00</td>\n",
       "      <td>2</td>\n",
       "    </tr>\n",
       "    <tr>\n",
       "      <th>51845</th>\n",
       "      <td>Yasmin Raya</td>\n",
       "      <td>2022-09-01 22:00:00</td>\n",
       "      <td>1</td>\n",
       "    </tr>\n",
       "    <tr>\n",
       "      <th>51846</th>\n",
       "      <td>Yasmin Raya</td>\n",
       "      <td>2022-09-03 13:00:00</td>\n",
       "      <td>1</td>\n",
       "    </tr>\n",
       "    <tr>\n",
       "      <th>51847</th>\n",
       "      <td>Yasmin Raya</td>\n",
       "      <td>2022-09-04 14:00:00</td>\n",
       "      <td>1</td>\n",
       "    </tr>\n",
       "  </tbody>\n",
       "</table>\n",
       "<p>51848 rows × 3 columns</p>\n",
       "</div>"
      ],
      "text/plain": [
       "            street                time  count\n",
       "0      AH Nasution 2022-07-09 13:00:00      1\n",
       "1      AH Nasution 2022-07-19 12:00:00      1\n",
       "2      AH Nasution 2022-07-19 15:00:00      1\n",
       "3      AH Nasution 2022-07-22 14:00:00      1\n",
       "4      AH Nasution 2022-07-22 22:00:00      1\n",
       "...            ...                 ...    ...\n",
       "51843  Yasmin Raya 2022-08-29 17:00:00      1\n",
       "51844  Yasmin Raya 2022-08-30 14:00:00      2\n",
       "51845  Yasmin Raya 2022-09-01 22:00:00      1\n",
       "51846  Yasmin Raya 2022-09-03 13:00:00      1\n",
       "51847  Yasmin Raya 2022-09-04 14:00:00      1\n",
       "\n",
       "[51848 rows x 3 columns]"
      ]
     },
     "execution_count": 10,
     "metadata": {},
     "output_type": "execute_result"
    }
   ],
   "source": [
    "# Check count of street and time\n",
    "count_street_time = pd.DataFrame({'count':jams_df.groupby(['street', 'time']).size()})\n",
    "count_street_time.reset_index(inplace=True)\n",
    "count_street_time"
   ]
  },
  {
   "cell_type": "code",
   "execution_count": 11,
   "metadata": {},
   "outputs": [
    {
     "data": {
      "text/html": [
       "<div>\n",
       "<style scoped>\n",
       "    .dataframe tbody tr th:only-of-type {\n",
       "        vertical-align: middle;\n",
       "    }\n",
       "\n",
       "    .dataframe tbody tr th {\n",
       "        vertical-align: top;\n",
       "    }\n",
       "\n",
       "    .dataframe thead th {\n",
       "        text-align: right;\n",
       "    }\n",
       "</style>\n",
       "<table border=\"1\" class=\"dataframe\">\n",
       "  <thead>\n",
       "    <tr style=\"text-align: right;\">\n",
       "      <th></th>\n",
       "      <th>street</th>\n",
       "      <th>time</th>\n",
       "      <th>count</th>\n",
       "    </tr>\n",
       "  </thead>\n",
       "  <tbody>\n",
       "    <tr>\n",
       "      <th>5</th>\n",
       "      <td>AH Nasution</td>\n",
       "      <td>2022-07-23 11:00:00</td>\n",
       "      <td>2</td>\n",
       "    </tr>\n",
       "    <tr>\n",
       "      <th>16</th>\n",
       "      <td>AH Nasution</td>\n",
       "      <td>2022-08-27 12:00:00</td>\n",
       "      <td>3</td>\n",
       "    </tr>\n",
       "    <tr>\n",
       "      <th>18</th>\n",
       "      <td>AH Nasution</td>\n",
       "      <td>2022-08-27 15:00:00</td>\n",
       "      <td>2</td>\n",
       "    </tr>\n",
       "    <tr>\n",
       "      <th>22</th>\n",
       "      <td>AH Nasution</td>\n",
       "      <td>2022-08-28 16:00:00</td>\n",
       "      <td>2</td>\n",
       "    </tr>\n",
       "    <tr>\n",
       "      <th>31</th>\n",
       "      <td>Achmad Adnawijaya</td>\n",
       "      <td>2022-07-06 17:00:00</td>\n",
       "      <td>2</td>\n",
       "    </tr>\n",
       "    <tr>\n",
       "      <th>...</th>\n",
       "      <td>...</td>\n",
       "      <td>...</td>\n",
       "      <td>...</td>\n",
       "    </tr>\n",
       "    <tr>\n",
       "      <th>51809</th>\n",
       "      <td>Wijaya Kusuma</td>\n",
       "      <td>2022-09-01 17:00:00</td>\n",
       "      <td>2</td>\n",
       "    </tr>\n",
       "    <tr>\n",
       "      <th>51816</th>\n",
       "      <td>Yasmin Raya</td>\n",
       "      <td>2022-07-07 21:00:00</td>\n",
       "      <td>2</td>\n",
       "    </tr>\n",
       "    <tr>\n",
       "      <th>51818</th>\n",
       "      <td>Yasmin Raya</td>\n",
       "      <td>2022-07-13 16:00:00</td>\n",
       "      <td>2</td>\n",
       "    </tr>\n",
       "    <tr>\n",
       "      <th>51823</th>\n",
       "      <td>Yasmin Raya</td>\n",
       "      <td>2022-07-24 14:00:00</td>\n",
       "      <td>2</td>\n",
       "    </tr>\n",
       "    <tr>\n",
       "      <th>51844</th>\n",
       "      <td>Yasmin Raya</td>\n",
       "      <td>2022-08-30 14:00:00</td>\n",
       "      <td>2</td>\n",
       "    </tr>\n",
       "  </tbody>\n",
       "</table>\n",
       "<p>30766 rows × 3 columns</p>\n",
       "</div>"
      ],
      "text/plain": [
       "                  street                time  count\n",
       "5            AH Nasution 2022-07-23 11:00:00      2\n",
       "16           AH Nasution 2022-08-27 12:00:00      3\n",
       "18           AH Nasution 2022-08-27 15:00:00      2\n",
       "22           AH Nasution 2022-08-28 16:00:00      2\n",
       "31     Achmad Adnawijaya 2022-07-06 17:00:00      2\n",
       "...                  ...                 ...    ...\n",
       "51809      Wijaya Kusuma 2022-09-01 17:00:00      2\n",
       "51816        Yasmin Raya 2022-07-07 21:00:00      2\n",
       "51818        Yasmin Raya 2022-07-13 16:00:00      2\n",
       "51823        Yasmin Raya 2022-07-24 14:00:00      2\n",
       "51844        Yasmin Raya 2022-08-30 14:00:00      2\n",
       "\n",
       "[30766 rows x 3 columns]"
      ]
     },
     "execution_count": 11,
     "metadata": {},
     "output_type": "execute_result"
    }
   ],
   "source": [
    "# Identify non unique street and time\n",
    "non_unique_street_time = count_street_time[count_street_time['count'] > 1]\n",
    "non_unique_street_time"
   ]
  },
  {
   "cell_type": "code",
   "execution_count": 12,
   "metadata": {},
   "outputs": [
    {
     "data": {
      "text/html": [
       "<div>\n",
       "<style scoped>\n",
       "    .dataframe tbody tr th:only-of-type {\n",
       "        vertical-align: middle;\n",
       "    }\n",
       "\n",
       "    .dataframe tbody tr th {\n",
       "        vertical-align: top;\n",
       "    }\n",
       "\n",
       "    .dataframe thead th {\n",
       "        text-align: right;\n",
       "    }\n",
       "</style>\n",
       "<table border=\"1\" class=\"dataframe\">\n",
       "  <thead>\n",
       "    <tr style=\"text-align: right;\">\n",
       "      <th></th>\n",
       "      <th>street</th>\n",
       "      <th>time</th>\n",
       "      <th>count</th>\n",
       "    </tr>\n",
       "  </thead>\n",
       "  <tbody>\n",
       "    <tr>\n",
       "      <th>0</th>\n",
       "      <td>AH Nasution</td>\n",
       "      <td>2022-07-09 13:00:00</td>\n",
       "      <td>1</td>\n",
       "    </tr>\n",
       "    <tr>\n",
       "      <th>1</th>\n",
       "      <td>AH Nasution</td>\n",
       "      <td>2022-07-19 12:00:00</td>\n",
       "      <td>1</td>\n",
       "    </tr>\n",
       "    <tr>\n",
       "      <th>2</th>\n",
       "      <td>AH Nasution</td>\n",
       "      <td>2022-07-19 15:00:00</td>\n",
       "      <td>1</td>\n",
       "    </tr>\n",
       "    <tr>\n",
       "      <th>3</th>\n",
       "      <td>AH Nasution</td>\n",
       "      <td>2022-07-22 14:00:00</td>\n",
       "      <td>1</td>\n",
       "    </tr>\n",
       "    <tr>\n",
       "      <th>4</th>\n",
       "      <td>AH Nasution</td>\n",
       "      <td>2022-07-22 22:00:00</td>\n",
       "      <td>1</td>\n",
       "    </tr>\n",
       "    <tr>\n",
       "      <th>...</th>\n",
       "      <td>...</td>\n",
       "      <td>...</td>\n",
       "      <td>...</td>\n",
       "    </tr>\n",
       "    <tr>\n",
       "      <th>51842</th>\n",
       "      <td>Yasmin Raya</td>\n",
       "      <td>2022-08-28 15:00:00</td>\n",
       "      <td>1</td>\n",
       "    </tr>\n",
       "    <tr>\n",
       "      <th>51843</th>\n",
       "      <td>Yasmin Raya</td>\n",
       "      <td>2022-08-29 17:00:00</td>\n",
       "      <td>1</td>\n",
       "    </tr>\n",
       "    <tr>\n",
       "      <th>51845</th>\n",
       "      <td>Yasmin Raya</td>\n",
       "      <td>2022-09-01 22:00:00</td>\n",
       "      <td>1</td>\n",
       "    </tr>\n",
       "    <tr>\n",
       "      <th>51846</th>\n",
       "      <td>Yasmin Raya</td>\n",
       "      <td>2022-09-03 13:00:00</td>\n",
       "      <td>1</td>\n",
       "    </tr>\n",
       "    <tr>\n",
       "      <th>51847</th>\n",
       "      <td>Yasmin Raya</td>\n",
       "      <td>2022-09-04 14:00:00</td>\n",
       "      <td>1</td>\n",
       "    </tr>\n",
       "  </tbody>\n",
       "</table>\n",
       "<p>21082 rows × 3 columns</p>\n",
       "</div>"
      ],
      "text/plain": [
       "            street                time  count\n",
       "0      AH Nasution 2022-07-09 13:00:00      1\n",
       "1      AH Nasution 2022-07-19 12:00:00      1\n",
       "2      AH Nasution 2022-07-19 15:00:00      1\n",
       "3      AH Nasution 2022-07-22 14:00:00      1\n",
       "4      AH Nasution 2022-07-22 22:00:00      1\n",
       "...            ...                 ...    ...\n",
       "51842  Yasmin Raya 2022-08-28 15:00:00      1\n",
       "51843  Yasmin Raya 2022-08-29 17:00:00      1\n",
       "51845  Yasmin Raya 2022-09-01 22:00:00      1\n",
       "51846  Yasmin Raya 2022-09-03 13:00:00      1\n",
       "51847  Yasmin Raya 2022-09-04 14:00:00      1\n",
       "\n",
       "[21082 rows x 3 columns]"
      ]
     },
     "execution_count": 12,
     "metadata": {},
     "output_type": "execute_result"
    }
   ],
   "source": [
    "# Identify unique street and time\n",
    "unique_street_time = count_street_time[count_street_time['count'] == 1]\n",
    "unique_street_time"
   ]
  },
  {
   "attachments": {},
   "cell_type": "markdown",
   "metadata": {},
   "source": [
    "If there were more that one row, choose the row that has higher report count. If more than one row have equal number of report, choose first record."
   ]
  },
  {
   "cell_type": "code",
   "execution_count": 13,
   "metadata": {},
   "outputs": [],
   "source": [
    "# Remove duplicates\n",
    "new_jams_df = jams_df.drop_duplicates(subset=['street', 'time'])"
   ]
  },
  {
   "cell_type": "code",
   "execution_count": 14,
   "metadata": {},
   "outputs": [
    {
     "data": {
      "text/plain": [
       "(51848, 13)"
      ]
     },
     "execution_count": 14,
     "metadata": {},
     "output_type": "execute_result"
    }
   ],
   "source": [
    "new_jams_df.shape"
   ]
  },
  {
   "cell_type": "code",
   "execution_count": 15,
   "metadata": {},
   "outputs": [
    {
     "data": {
      "text/plain": [
       "0"
      ]
     },
     "execution_count": 15,
     "metadata": {},
     "output_type": "execute_result"
    }
   ],
   "source": [
    "# Check duplicates\n",
    "new_count_street_time = pd.DataFrame({'count':new_jams_df.groupby(['street', 'time']).size()}).reset_index()\n",
    "new_count_street_time[new_count_street_time['count'] > 1].shape[0]"
   ]
  },
  {
   "cell_type": "code",
   "execution_count": 16,
   "metadata": {},
   "outputs": [
    {
     "name": "stdout",
     "output_type": "stream",
     "text": [
      "Min Median Length: 13.0\n",
      "Min Median Delay: -1.0\n",
      "Min Median Speed kmh: 0.0\n"
     ]
    }
   ],
   "source": [
    "# Check minus value\n",
    "print('Min Median Length:', new_jams_df['median_length'].min())\n",
    "print('Min Median Delay:', new_jams_df['median_delay'].min())\n",
    "print('Min Median Speed kmh:', new_jams_df['median_speed_kmh'].min())"
   ]
  },
  {
   "attachments": {},
   "cell_type": "markdown",
   "metadata": {},
   "source": [
    "Consist minus value on median delay"
   ]
  },
  {
   "cell_type": "code",
   "execution_count": 17,
   "metadata": {},
   "outputs": [
    {
     "name": "stdout",
     "output_type": "stream",
     "text": [
      "Min Median Delay: 18.0\n"
     ]
    }
   ],
   "source": [
    "# Remove minus value\n",
    "new_jams_df = new_jams_df[new_jams_df['median_delay'] >= 0]\n",
    "print('Min Median Delay:', new_jams_df['median_delay'].min())"
   ]
  },
  {
   "attachments": {},
   "cell_type": "markdown",
   "metadata": {},
   "source": [
    "Minus value removed"
   ]
  },
  {
   "cell_type": "code",
   "execution_count": 18,
   "metadata": {},
   "outputs": [
    {
     "name": "stdout",
     "output_type": "stream",
     "text": [
      "<class 'pandas.core.frame.DataFrame'>\n",
      "Int64Index: 50669 entries, 0 to 100527\n",
      "Data columns (total 13 columns):\n",
      " #   Column                     Non-Null Count  Dtype         \n",
      "---  ------                     --------------  -----         \n",
      " 0   time                       50669 non-null  datetime64[ns]\n",
      " 1   kemendagri_kabupaten_kode  50669 non-null  float64       \n",
      " 2   kemendagri_kabupaten_nama  50669 non-null  object        \n",
      " 3   street                     50669 non-null  object        \n",
      " 4   level                      50669 non-null  int64         \n",
      " 5   median_length              50669 non-null  float64       \n",
      " 6   median_delay               50669 non-null  float64       \n",
      " 7   median_speed_kmh           50669 non-null  float64       \n",
      " 8   total_records              50669 non-null  int64         \n",
      " 9   id                         50669 non-null  int64         \n",
      " 10  date                       50669 non-null  datetime64[ns]\n",
      " 11  median_level               50669 non-null  float64       \n",
      " 12  geometry                   50669 non-null  object        \n",
      "dtypes: datetime64[ns](2), float64(5), int64(3), object(3)\n",
      "memory usage: 5.4+ MB\n"
     ]
    }
   ],
   "source": [
    "# Check new_jams_df info\n",
    "new_jams_df.info()"
   ]
  },
  {
   "attachments": {},
   "cell_type": "markdown",
   "metadata": {},
   "source": [
    "### Final dataset"
   ]
  },
  {
   "cell_type": "code",
   "execution_count": 19,
   "metadata": {},
   "outputs": [],
   "source": [
    "final_jams_df = new_jams_df.loc[:, ['time', 'street', 'level', 'median_length', 'median_delay', 'median_speed_kmh', 'geometry']]"
   ]
  },
  {
   "cell_type": "code",
   "execution_count": 20,
   "metadata": {},
   "outputs": [
    {
     "data": {
      "text/html": [
       "<div>\n",
       "<style scoped>\n",
       "    .dataframe tbody tr th:only-of-type {\n",
       "        vertical-align: middle;\n",
       "    }\n",
       "\n",
       "    .dataframe tbody tr th {\n",
       "        vertical-align: top;\n",
       "    }\n",
       "\n",
       "    .dataframe thead th {\n",
       "        text-align: right;\n",
       "    }\n",
       "</style>\n",
       "<table border=\"1\" class=\"dataframe\">\n",
       "  <thead>\n",
       "    <tr style=\"text-align: right;\">\n",
       "      <th></th>\n",
       "      <th>time</th>\n",
       "      <th>street</th>\n",
       "      <th>level</th>\n",
       "      <th>median_length</th>\n",
       "      <th>median_delay</th>\n",
       "      <th>median_speed_kmh</th>\n",
       "      <th>geometry</th>\n",
       "    </tr>\n",
       "  </thead>\n",
       "  <tbody>\n",
       "    <tr>\n",
       "      <th>0</th>\n",
       "      <td>2022-07-06 00:00:00</td>\n",
       "      <td>Pahlawan</td>\n",
       "      <td>2</td>\n",
       "      <td>784.0</td>\n",
       "      <td>62.0</td>\n",
       "      <td>20.310001</td>\n",
       "      <td>MULTILINESTRING ((106.797269 -6.608899, 106.79...</td>\n",
       "    </tr>\n",
       "    <tr>\n",
       "      <th>1</th>\n",
       "      <td>2022-07-06 00:00:00</td>\n",
       "      <td>Tol Lingkar Luar Bogor</td>\n",
       "      <td>2</td>\n",
       "      <td>1314.0</td>\n",
       "      <td>63.0</td>\n",
       "      <td>37.710000</td>\n",
       "      <td>LINESTRING (106.787027 -6.559782, 106.787701 -...</td>\n",
       "    </tr>\n",
       "    <tr>\n",
       "      <th>3</th>\n",
       "      <td>2022-07-06 00:00:00</td>\n",
       "      <td>N8 Jalan Raya Sukabumi</td>\n",
       "      <td>3</td>\n",
       "      <td>379.0</td>\n",
       "      <td>117.5</td>\n",
       "      <td>8.594999</td>\n",
       "      <td>MULTILINESTRING ((106.845486 -6.6594, 106.8454...</td>\n",
       "    </tr>\n",
       "    <tr>\n",
       "      <th>6</th>\n",
       "      <td>2022-07-06 01:00:00</td>\n",
       "      <td>N9 Jalan Raya Pajajaran</td>\n",
       "      <td>2</td>\n",
       "      <td>808.0</td>\n",
       "      <td>73.0</td>\n",
       "      <td>19.920000</td>\n",
       "      <td>LINESTRING (106.804346 -6.595963, 106.80472 -6...</td>\n",
       "    </tr>\n",
       "    <tr>\n",
       "      <th>7</th>\n",
       "      <td>2022-07-06 01:00:00</td>\n",
       "      <td>Tol Lingkar Luar Bogor</td>\n",
       "      <td>1</td>\n",
       "      <td>2812.0</td>\n",
       "      <td>128.5</td>\n",
       "      <td>43.400000</td>\n",
       "      <td>LINESTRING (106.787027 -6.559782, 106.787701 -...</td>\n",
       "    </tr>\n",
       "    <tr>\n",
       "      <th>...</th>\n",
       "      <td>...</td>\n",
       "      <td>...</td>\n",
       "      <td>...</td>\n",
       "      <td>...</td>\n",
       "      <td>...</td>\n",
       "      <td>...</td>\n",
       "      <td>...</td>\n",
       "    </tr>\n",
       "    <tr>\n",
       "      <th>100518</th>\n",
       "      <td>2022-09-04 23:00:00</td>\n",
       "      <td>Kapten Yusuf</td>\n",
       "      <td>3</td>\n",
       "      <td>402.0</td>\n",
       "      <td>106.0</td>\n",
       "      <td>9.080000</td>\n",
       "      <td>MULTILINESTRING ((106.787318 -6.614671, 106.78...</td>\n",
       "    </tr>\n",
       "    <tr>\n",
       "      <th>100523</th>\n",
       "      <td>2022-09-06 00:00:00</td>\n",
       "      <td>N9 KS Tubun</td>\n",
       "      <td>2</td>\n",
       "      <td>327.0</td>\n",
       "      <td>67.0</td>\n",
       "      <td>9.620000</td>\n",
       "      <td>MULTILINESTRING ((106.810069 -6.56609, 106.809...</td>\n",
       "    </tr>\n",
       "    <tr>\n",
       "      <th>100524</th>\n",
       "      <td>2022-09-06 00:00:00</td>\n",
       "      <td>Tol Jagorawi</td>\n",
       "      <td>2</td>\n",
       "      <td>3377.0</td>\n",
       "      <td>116.0</td>\n",
       "      <td>39.030000</td>\n",
       "      <td>LINESTRING (106.831594 -6.604101, 106.831608 -...</td>\n",
       "    </tr>\n",
       "    <tr>\n",
       "      <th>100525</th>\n",
       "      <td>2022-09-06 00:00:00</td>\n",
       "      <td>N9 Jalan Raya Tajur</td>\n",
       "      <td>1</td>\n",
       "      <td>2625.0</td>\n",
       "      <td>107.5</td>\n",
       "      <td>29.235000</td>\n",
       "      <td>LINESTRING (106.83008 -6.637004, 106.831101 -6...</td>\n",
       "    </tr>\n",
       "    <tr>\n",
       "      <th>100527</th>\n",
       "      <td>2022-09-06 00:00:00</td>\n",
       "      <td>N9 Jalan Raya Pajajaran</td>\n",
       "      <td>2</td>\n",
       "      <td>862.5</td>\n",
       "      <td>77.5</td>\n",
       "      <td>21.035000</td>\n",
       "      <td>MULTILINESTRING ((106.807007 -6.579145, 106.80...</td>\n",
       "    </tr>\n",
       "  </tbody>\n",
       "</table>\n",
       "<p>50669 rows × 7 columns</p>\n",
       "</div>"
      ],
      "text/plain": [
       "                      time                   street  level  median_length  \\\n",
       "0      2022-07-06 00:00:00                 Pahlawan      2          784.0   \n",
       "1      2022-07-06 00:00:00   Tol Lingkar Luar Bogor      2         1314.0   \n",
       "3      2022-07-06 00:00:00   N8 Jalan Raya Sukabumi      3          379.0   \n",
       "6      2022-07-06 01:00:00  N9 Jalan Raya Pajajaran      2          808.0   \n",
       "7      2022-07-06 01:00:00   Tol Lingkar Luar Bogor      1         2812.0   \n",
       "...                    ...                      ...    ...            ...   \n",
       "100518 2022-09-04 23:00:00             Kapten Yusuf      3          402.0   \n",
       "100523 2022-09-06 00:00:00              N9 KS Tubun      2          327.0   \n",
       "100524 2022-09-06 00:00:00             Tol Jagorawi      2         3377.0   \n",
       "100525 2022-09-06 00:00:00      N9 Jalan Raya Tajur      1         2625.0   \n",
       "100527 2022-09-06 00:00:00  N9 Jalan Raya Pajajaran      2          862.5   \n",
       "\n",
       "        median_delay  median_speed_kmh  \\\n",
       "0               62.0         20.310001   \n",
       "1               63.0         37.710000   \n",
       "3              117.5          8.594999   \n",
       "6               73.0         19.920000   \n",
       "7              128.5         43.400000   \n",
       "...              ...               ...   \n",
       "100518         106.0          9.080000   \n",
       "100523          67.0          9.620000   \n",
       "100524         116.0         39.030000   \n",
       "100525         107.5         29.235000   \n",
       "100527          77.5         21.035000   \n",
       "\n",
       "                                                 geometry  \n",
       "0       MULTILINESTRING ((106.797269 -6.608899, 106.79...  \n",
       "1       LINESTRING (106.787027 -6.559782, 106.787701 -...  \n",
       "3       MULTILINESTRING ((106.845486 -6.6594, 106.8454...  \n",
       "6       LINESTRING (106.804346 -6.595963, 106.80472 -6...  \n",
       "7       LINESTRING (106.787027 -6.559782, 106.787701 -...  \n",
       "...                                                   ...  \n",
       "100518  MULTILINESTRING ((106.787318 -6.614671, 106.78...  \n",
       "100523  MULTILINESTRING ((106.810069 -6.56609, 106.809...  \n",
       "100524  LINESTRING (106.831594 -6.604101, 106.831608 -...  \n",
       "100525  LINESTRING (106.83008 -6.637004, 106.831101 -6...  \n",
       "100527  MULTILINESTRING ((106.807007 -6.579145, 106.80...  \n",
       "\n",
       "[50669 rows x 7 columns]"
      ]
     },
     "execution_count": 20,
     "metadata": {},
     "output_type": "execute_result"
    }
   ],
   "source": [
    "final_jams_df"
   ]
  },
  {
   "cell_type": "code",
   "execution_count": 24,
   "metadata": {},
   "outputs": [],
   "source": [
    "# Save dataset\n",
    "final_jams_df.to_parquet(r'C:\\Ayub Indra\\Data Analyst\\DSLS 2023\\Mini Project Data Scientist\\Datasets\\final\\final dataset.parquet',\n",
    "                         index=False)"
   ]
  }
 ],
 "metadata": {
  "kernelspec": {
   "display_name": "Python 3",
   "language": "python",
   "name": "python3"
  },
  "language_info": {
   "codemirror_mode": {
    "name": "ipython",
    "version": 3
   },
   "file_extension": ".py",
   "mimetype": "text/x-python",
   "name": "python",
   "nbconvert_exporter": "python",
   "pygments_lexer": "ipython3",
   "version": "3.11.1 (tags/v3.11.1:a7a450f, Dec  6 2022, 19:58:39) [MSC v.1934 64 bit (AMD64)]"
  },
  "orig_nbformat": 4,
  "vscode": {
   "interpreter": {
    "hash": "c96370ad76da32f6e70431522715ec8db20eeb14afa16e723f4c4e77a3cc51dd"
   }
  }
 },
 "nbformat": 4,
 "nbformat_minor": 2
}
